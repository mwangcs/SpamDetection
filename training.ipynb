{
 "cells": [
  {
   "cell_type": "code",
   "execution_count": 1,
   "metadata": {
    "collapsed": true
   },
   "outputs": [],
   "source": [
    "from __future__ import division\n",
    "import pickle\n",
    "import math\n",
    "import scipy as sp\n",
    "import scipy.stats as stats\n",
    "import scipy.io as sio\n",
    "import numpy as np\n",
    "import matplotlib as mpl\n",
    "import collections"
   ]
  },
  {
   "cell_type": "code",
   "execution_count": 9,
   "metadata": {
    "collapsed": false
   },
   "outputs": [],
   "source": [
    "def prob_of(W,x,y):\n",
    "        if y == 0:\n",
    "            return 1/(1+math.exp(W.dot(x)))\n",
    "        else:\n",
    "            return 1- 1/(1+math.exp(W.dot(x)))\n",
    "\n",
    "def natural_gradient(W, X, Y, Ita, Lambda_v):\n",
    "        P_Y = []\n",
    "        for i in range(Y.shape[0]):\n",
    "            P_Y.append(Y[i] - prob_of(W,X[i],1))\n",
    "        P_Y = np.array(P_Y)\n",
    "        return W + Ita * (np.transpose(X).dot(P_Y)) - Ita*Lambda_v\n",
    "\n",
    "def optimization(W,X,Y,Ita,Lambda_v):\n",
    "        while True:\n",
    "            new_w = natural_gradient(W,X,Y,Ita,Lambda_v)\n",
    "            print max(new_w),min(new_w)\n",
    "            print math.sqrt((new_w - W).dot(new_w - W))\n",
    "            if math.sqrt((new_w - W).dot(new_w - W)) < 0.0008:\n",
    "                w_file8 = open('w_file8.txt','wb')\n",
    "                pickle.dump(new_w,w_file8)\n",
    "                w_file8.close()\n",
    "            if math.sqrt((new_w - W).dot(new_w - W)) < 0.0006:\n",
    "                w_file9 = open('w_file9.txt','wb')\n",
    "                pickle.dump(new_w,w_file9)\n",
    "                w_file9.close()\n",
    "            if math.sqrt((new_w - W).dot(new_w - W)) < 0.0004:\n",
    "                w_file10 = open('w_file10.txt','wb')\n",
    "                pickle.dump(new_w,w_file10)\n",
    "                w_file10.close()   \n",
    "            if math.sqrt((new_w - W).dot(new_w - W)) < 0.0002:\n",
    "                w_file11 = open('w_file11.txt','wb')\n",
    "                pickle.dump(new_w,w_file11)\n",
    "                w_file11.close()     \n",
    "                return \n",
    "            W = new_w"
   ]
  },
  {
   "cell_type": "code",
   "execution_count": 3,
   "metadata": {
    "collapsed": false
   },
   "outputs": [],
   "source": [
    "X_spam = open('spam_vec.txt','rb')\n",
    "X_ham = open('ham_vec.txt','rb')\n",
    "X_spam = pickle.load(X_spam)\n",
    "X_ham = pickle.load(X_ham)\n",
    "X = X_spam + X_ham\n",
    "Y = [1]*len(X_spam) + [0]*len(X_ham)\n",
    "Lambda = 0.1\n",
    "Ita = 0.001   \n",
    "X = np.array(X)\n",
    "X = np.append(X,[[1]]*len(X),1)\n",
    "Y = np.array(Y)\n",
    "W = np.array([0]*len(X[0]))\n",
    "Lambda_v = np.array([Lambda]*len(X[0]))\n"
   ]
  },
  {
   "cell_type": "code",
   "execution_count": 10,
   "metadata": {
    "collapsed": true
   },
   "outputs": [],
   "source": [
    "Lambda = 0.001\n",
    "Lambda_v = np.array([Lambda]*len(X[0]))\n",
    "Ita = 0.00001   \n",
    "W = np.array([0]*len(X[0]))"
   ]
  },
  {
   "cell_type": "code",
   "execution_count": null,
   "metadata": {
    "collapsed": false
   },
   "outputs": [],
   "source": [
    "optimization(W,X,Y,Ita,Lambda_v)\n"
   ]
  },
  {
   "cell_type": "code",
   "execution_count": null,
   "metadata": {
    "collapsed": true
   },
   "outputs": [],
   "source": []
  }
 ],
 "metadata": {
  "kernelspec": {
   "display_name": "Python 2",
   "language": "python",
   "name": "python2"
  },
  "language_info": {
   "codemirror_mode": {
    "name": "ipython",
    "version": 2
   },
   "file_extension": ".py",
   "mimetype": "text/x-python",
   "name": "python",
   "nbconvert_exporter": "python",
   "pygments_lexer": "ipython2",
   "version": "2.7.6"
  }
 },
 "nbformat": 4,
 "nbformat_minor": 0
}
